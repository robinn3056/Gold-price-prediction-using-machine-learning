{
 "cells": [
  {
   "cell_type": "markdown",
   "id": "8940d313-a5e0-4615-a36e-60ea0a024e36",
   "metadata": {},
   "source": [
    "# Gold Price Prediction Using Random Forest Regression"
   ]
  },
  {
   "cell_type": "markdown",
   "id": "5c482c9d-6bbf-483a-914b-6159ec8c3c9f",
   "metadata": {},
   "source": [
    "### Table of Content:\n",
    "1. Import required libraries\n",
    "2. Load dataset and pre-process the data\n",
    "3. Correlationn factor\n",
    "4. Train the data\n",
    "5. Load the model\n",
    "6. Test the data\n",
    "7. R square\n",
    "8. Compare the actual and predicted value"
   ]
  },
  {
   "cell_type": "markdown",
   "id": "99a80317-6aa3-4ad0-aa81-1e4913d2cedb",
   "metadata": {},
   "source": [
    "### Important Libraries"
   ]
  },
  {
   "cell_type": "code",
   "execution_count": 58,
   "id": "118ed297-6e07-4466-8dce-f421977dd917",
   "metadata": {},
   "outputs": [],
   "source": [
    "import numpy as nption\n",
    "import pandas as pd \n",
    "import matplotlib.pyplot as plt\n",
    "import seaborn as sns\n",
    "from sklearn.model_selection import train_test_split\n",
    "from sklearn.ensemble import RandomForestRegressor\n",
    "from sklearn import metrics"
   ]
  },
  {
   "cell_type": "markdown",
   "id": "7c9afb15-2d3a-401d-9735-b541e275b576",
   "metadata": {},
   "source": [
    "### Data import and Data Preprocessing"
   ]
  },
  {
   "cell_type": "code",
   "execution_count": 59,
   "id": "d4989184-d4ec-43f0-a515-e0e8fc808f6c",
   "metadata": {},
   "outputs": [
    {
     "data": {
      "text/html": [
       "<div>\n",
       "<style scoped>\n",
       "    .dataframe tbody tr th:only-of-type {\n",
       "        vertical-align: middle;\n",
       "    }\n",
       "\n",
       "    .dataframe tbody tr th {\n",
       "        vertical-align: top;\n",
       "    }\n",
       "\n",
       "    .dataframe thead th {\n",
       "        text-align: right;\n",
       "    }\n",
       "</style>\n",
       "<table border=\"1\" class=\"dataframe\">\n",
       "  <thead>\n",
       "    <tr style=\"text-align: right;\">\n",
       "      <th></th>\n",
       "      <th>Date</th>\n",
       "      <th>Open</th>\n",
       "      <th>High</th>\n",
       "      <th>Low</th>\n",
       "      <th>Close</th>\n",
       "      <th>WAP</th>\n",
       "      <th>No. of Shares</th>\n",
       "      <th>No. of Trades</th>\n",
       "      <th>Total Turnover</th>\n",
       "      <th>Deliverable Quantity</th>\n",
       "      <th>% Deli. Qty to Traded Qty</th>\n",
       "      <th>Spread H-L</th>\n",
       "      <th>Spread C-O</th>\n",
       "    </tr>\n",
       "  </thead>\n",
       "  <tbody>\n",
       "    <tr>\n",
       "      <th>0</th>\n",
       "      <td>2017-02-06</td>\n",
       "      <td>0.79</td>\n",
       "      <td>0.79</td>\n",
       "      <td>0.76</td>\n",
       "      <td>0.76</td>\n",
       "      <td>0.790000</td>\n",
       "      <td>7430.0</td>\n",
       "      <td>7.0</td>\n",
       "      <td>5848.0</td>\n",
       "      <td>7430.0</td>\n",
       "      <td>100.00</td>\n",
       "      <td>0.03</td>\n",
       "      <td>-0.03</td>\n",
       "    </tr>\n",
       "    <tr>\n",
       "      <th>1</th>\n",
       "      <td>2017-02-03</td>\n",
       "      <td>0.79</td>\n",
       "      <td>0.79</td>\n",
       "      <td>0.79</td>\n",
       "      <td>0.79</td>\n",
       "      <td>0.790000</td>\n",
       "      <td>310.0</td>\n",
       "      <td>4.0</td>\n",
       "      <td>244.0</td>\n",
       "      <td>310.0</td>\n",
       "      <td>100.00</td>\n",
       "      <td>0.00</td>\n",
       "      <td>0.00</td>\n",
       "    </tr>\n",
       "    <tr>\n",
       "      <th>2</th>\n",
       "      <td>2017-02-02</td>\n",
       "      <td>0.83</td>\n",
       "      <td>0.83</td>\n",
       "      <td>0.83</td>\n",
       "      <td>0.83</td>\n",
       "      <td>0.830000</td>\n",
       "      <td>75.0</td>\n",
       "      <td>1.0</td>\n",
       "      <td>62.0</td>\n",
       "      <td>75.0</td>\n",
       "      <td>100.00</td>\n",
       "      <td>0.00</td>\n",
       "      <td>0.00</td>\n",
       "    </tr>\n",
       "    <tr>\n",
       "      <th>3</th>\n",
       "      <td>2017-01-31</td>\n",
       "      <td>0.87</td>\n",
       "      <td>0.87</td>\n",
       "      <td>0.87</td>\n",
       "      <td>0.87</td>\n",
       "      <td>0.870000</td>\n",
       "      <td>1050.0</td>\n",
       "      <td>2.0</td>\n",
       "      <td>913.0</td>\n",
       "      <td>1050.0</td>\n",
       "      <td>100.00</td>\n",
       "      <td>0.00</td>\n",
       "      <td>0.00</td>\n",
       "    </tr>\n",
       "    <tr>\n",
       "      <th>4</th>\n",
       "      <td>2017-01-25</td>\n",
       "      <td>0.91</td>\n",
       "      <td>0.91</td>\n",
       "      <td>0.91</td>\n",
       "      <td>0.91</td>\n",
       "      <td>0.910000</td>\n",
       "      <td>400.0</td>\n",
       "      <td>1.0</td>\n",
       "      <td>364.0</td>\n",
       "      <td>400.0</td>\n",
       "      <td>100.00</td>\n",
       "      <td>0.00</td>\n",
       "      <td>0.00</td>\n",
       "    </tr>\n",
       "    <tr>\n",
       "      <th>...</th>\n",
       "      <td>...</td>\n",
       "      <td>...</td>\n",
       "      <td>...</td>\n",
       "      <td>...</td>\n",
       "      <td>...</td>\n",
       "      <td>...</td>\n",
       "      <td>...</td>\n",
       "      <td>...</td>\n",
       "      <td>...</td>\n",
       "      <td>...</td>\n",
       "      <td>...</td>\n",
       "      <td>...</td>\n",
       "      <td>...</td>\n",
       "    </tr>\n",
       "    <tr>\n",
       "      <th>1655</th>\n",
       "      <td>2009-12-07</td>\n",
       "      <td>65.55</td>\n",
       "      <td>71.00</td>\n",
       "      <td>57.60</td>\n",
       "      <td>65.25</td>\n",
       "      <td>64.071524</td>\n",
       "      <td>42741.0</td>\n",
       "      <td>286.0</td>\n",
       "      <td>2738481.0</td>\n",
       "      <td>14444.0</td>\n",
       "      <td>33.79</td>\n",
       "      <td>13.40</td>\n",
       "      <td>-0.30</td>\n",
       "    </tr>\n",
       "    <tr>\n",
       "      <th>1656</th>\n",
       "      <td>2009-12-04</td>\n",
       "      <td>84.95</td>\n",
       "      <td>84.95</td>\n",
       "      <td>66.30</td>\n",
       "      <td>71.95</td>\n",
       "      <td>73.919145</td>\n",
       "      <td>133820.0</td>\n",
       "      <td>430.0</td>\n",
       "      <td>9891860.0</td>\n",
       "      <td>82395.0</td>\n",
       "      <td>61.57</td>\n",
       "      <td>18.65</td>\n",
       "      <td>-13.00</td>\n",
       "    </tr>\n",
       "    <tr>\n",
       "      <th>1657</th>\n",
       "      <td>2009-12-03</td>\n",
       "      <td>72.00</td>\n",
       "      <td>72.00</td>\n",
       "      <td>65.20</td>\n",
       "      <td>70.80</td>\n",
       "      <td>71.469977</td>\n",
       "      <td>84551.0</td>\n",
       "      <td>368.0</td>\n",
       "      <td>6042858.0</td>\n",
       "      <td>61676.0</td>\n",
       "      <td>72.95</td>\n",
       "      <td>6.80</td>\n",
       "      <td>-1.20</td>\n",
       "    </tr>\n",
       "    <tr>\n",
       "      <th>1658</th>\n",
       "      <td>2009-12-02</td>\n",
       "      <td>60.00</td>\n",
       "      <td>60.00</td>\n",
       "      <td>60.00</td>\n",
       "      <td>60.00</td>\n",
       "      <td>60.000000</td>\n",
       "      <td>250.0</td>\n",
       "      <td>3.0</td>\n",
       "      <td>15000.0</td>\n",
       "      <td>250.0</td>\n",
       "      <td>100.00</td>\n",
       "      <td>0.00</td>\n",
       "      <td>0.00</td>\n",
       "    </tr>\n",
       "    <tr>\n",
       "      <th>1659</th>\n",
       "      <td>2009-12-01</td>\n",
       "      <td>36.00</td>\n",
       "      <td>50.00</td>\n",
       "      <td>36.00</td>\n",
       "      <td>50.00</td>\n",
       "      <td>49.767758</td>\n",
       "      <td>30141.0</td>\n",
       "      <td>55.0</td>\n",
       "      <td>1500050.0</td>\n",
       "      <td>29000.0</td>\n",
       "      <td>96.21</td>\n",
       "      <td>14.00</td>\n",
       "      <td>14.00</td>\n",
       "    </tr>\n",
       "  </tbody>\n",
       "</table>\n",
       "<p>1660 rows × 13 columns</p>\n",
       "</div>"
      ],
      "text/plain": [
       "            Date   Open   High    Low  Close        WAP  No. of Shares  \\\n",
       "0     2017-02-06   0.79   0.79   0.76   0.76   0.790000         7430.0   \n",
       "1     2017-02-03   0.79   0.79   0.79   0.79   0.790000          310.0   \n",
       "2     2017-02-02   0.83   0.83   0.83   0.83   0.830000           75.0   \n",
       "3     2017-01-31   0.87   0.87   0.87   0.87   0.870000         1050.0   \n",
       "4     2017-01-25   0.91   0.91   0.91   0.91   0.910000          400.0   \n",
       "...          ...    ...    ...    ...    ...        ...            ...   \n",
       "1655  2009-12-07  65.55  71.00  57.60  65.25  64.071524        42741.0   \n",
       "1656  2009-12-04  84.95  84.95  66.30  71.95  73.919145       133820.0   \n",
       "1657  2009-12-03  72.00  72.00  65.20  70.80  71.469977        84551.0   \n",
       "1658  2009-12-02  60.00  60.00  60.00  60.00  60.000000          250.0   \n",
       "1659  2009-12-01  36.00  50.00  36.00  50.00  49.767758        30141.0   \n",
       "\n",
       "      No. of Trades  Total Turnover  Deliverable Quantity  \\\n",
       "0               7.0          5848.0                7430.0   \n",
       "1               4.0           244.0                 310.0   \n",
       "2               1.0            62.0                  75.0   \n",
       "3               2.0           913.0                1050.0   \n",
       "4               1.0           364.0                 400.0   \n",
       "...             ...             ...                   ...   \n",
       "1655          286.0       2738481.0               14444.0   \n",
       "1656          430.0       9891860.0               82395.0   \n",
       "1657          368.0       6042858.0               61676.0   \n",
       "1658            3.0         15000.0                 250.0   \n",
       "1659           55.0       1500050.0               29000.0   \n",
       "\n",
       "      % Deli. Qty to Traded Qty  Spread H-L  Spread C-O  \n",
       "0                        100.00        0.03       -0.03  \n",
       "1                        100.00        0.00        0.00  \n",
       "2                        100.00        0.00        0.00  \n",
       "3                        100.00        0.00        0.00  \n",
       "4                        100.00        0.00        0.00  \n",
       "...                         ...         ...         ...  \n",
       "1655                      33.79       13.40       -0.30  \n",
       "1656                      61.57       18.65      -13.00  \n",
       "1657                      72.95        6.80       -1.20  \n",
       "1658                     100.00        0.00        0.00  \n",
       "1659                      96.21       14.00       14.00  \n",
       "\n",
       "[1660 rows x 13 columns]"
      ]
     },
     "execution_count": 59,
     "metadata": {},
     "output_type": "execute_result"
    }
   ],
   "source": [
    "data = pd.read_csv(\"Gold_Price_dataset.csv\")\n",
    "data"
   ]
  },
  {
   "cell_type": "markdown",
   "id": "5350b94d-5f74-4f80-9ddc-262500233675",
   "metadata": {},
   "source": [
    "Data.info shows the number of null values present in dataset. If there is null value then we need to pre-process it but right now there is no null or all non-null values present so we don't need any further data cleaning."
   ]
  },
  {
   "cell_type": "code",
   "execution_count": 60,
   "id": "0be50cc1-1c70-46e8-bef2-1ccc013df290",
   "metadata": {},
   "outputs": [
    {
     "name": "stdout",
     "output_type": "stream",
     "text": [
      "<class 'pandas.core.frame.DataFrame'>\n",
      "RangeIndex: 1660 entries, 0 to 1659\n",
      "Data columns (total 13 columns):\n",
      " #   Column                     Non-Null Count  Dtype  \n",
      "---  ------                     --------------  -----  \n",
      " 0   Date                       1660 non-null   object \n",
      " 1   Open                       1660 non-null   float64\n",
      " 2   High                       1660 non-null   float64\n",
      " 3   Low                        1660 non-null   float64\n",
      " 4   Close                      1660 non-null   float64\n",
      " 5   WAP                        1660 non-null   float64\n",
      " 6   No. of Shares              1660 non-null   float64\n",
      " 7   No. of Trades              1660 non-null   float64\n",
      " 8   Total Turnover             1660 non-null   float64\n",
      " 9   Deliverable Quantity       1660 non-null   float64\n",
      " 10  % Deli. Qty to Traded Qty  1660 non-null   float64\n",
      " 11  Spread H-L                 1660 non-null   float64\n",
      " 12  Spread C-O                 1660 non-null   float64\n",
      "dtypes: float64(12), object(1)\n",
      "memory usage: 168.7+ KB\n"
     ]
    }
   ],
   "source": [
    "data.info()"
   ]
  },
  {
   "cell_type": "code",
   "execution_count": 61,
   "id": "ddc579a2-4aa5-42f1-bf62-c77db57031c5",
   "metadata": {},
   "outputs": [
    {
     "data": {
      "text/html": [
       "<div>\n",
       "<style scoped>\n",
       "    .dataframe tbody tr th:only-of-type {\n",
       "        vertical-align: middle;\n",
       "    }\n",
       "\n",
       "    .dataframe tbody tr th {\n",
       "        vertical-align: top;\n",
       "    }\n",
       "\n",
       "    .dataframe thead th {\n",
       "        text-align: right;\n",
       "    }\n",
       "</style>\n",
       "<table border=\"1\" class=\"dataframe\">\n",
       "  <thead>\n",
       "    <tr style=\"text-align: right;\">\n",
       "      <th></th>\n",
       "      <th>Open</th>\n",
       "      <th>High</th>\n",
       "      <th>Low</th>\n",
       "      <th>Close</th>\n",
       "      <th>WAP</th>\n",
       "      <th>No. of Shares</th>\n",
       "      <th>No. of Trades</th>\n",
       "      <th>Total Turnover</th>\n",
       "      <th>Deliverable Quantity</th>\n",
       "      <th>% Deli. Qty to Traded Qty</th>\n",
       "      <th>Spread H-L</th>\n",
       "      <th>Spread C-O</th>\n",
       "    </tr>\n",
       "  </thead>\n",
       "  <tbody>\n",
       "    <tr>\n",
       "      <th>count</th>\n",
       "      <td>1660.000000</td>\n",
       "      <td>1660.000000</td>\n",
       "      <td>1660.000000</td>\n",
       "      <td>1660.000000</td>\n",
       "      <td>1660.000000</td>\n",
       "      <td>1660.000000</td>\n",
       "      <td>1660.000000</td>\n",
       "      <td>1.660000e+03</td>\n",
       "      <td>1660.000000</td>\n",
       "      <td>1660.000000</td>\n",
       "      <td>1660.000000</td>\n",
       "      <td>1660.000000</td>\n",
       "    </tr>\n",
       "    <tr>\n",
       "      <th>mean</th>\n",
       "      <td>11.834367</td>\n",
       "      <td>12.174048</td>\n",
       "      <td>11.221578</td>\n",
       "      <td>11.673934</td>\n",
       "      <td>11.688802</td>\n",
       "      <td>101330.338554</td>\n",
       "      <td>122.983735</td>\n",
       "      <td>1.664520e+06</td>\n",
       "      <td>75754.484337</td>\n",
       "      <td>88.678651</td>\n",
       "      <td>0.952470</td>\n",
       "      <td>-0.160434</td>\n",
       "    </tr>\n",
       "    <tr>\n",
       "      <th>std</th>\n",
       "      <td>17.169590</td>\n",
       "      <td>17.704607</td>\n",
       "      <td>16.143363</td>\n",
       "      <td>16.837100</td>\n",
       "      <td>16.920058</td>\n",
       "      <td>140560.465729</td>\n",
       "      <td>138.844766</td>\n",
       "      <td>2.938726e+06</td>\n",
       "      <td>96646.348605</td>\n",
       "      <td>16.648158</td>\n",
       "      <td>1.960071</td>\n",
       "      <td>1.342787</td>\n",
       "    </tr>\n",
       "    <tr>\n",
       "      <th>min</th>\n",
       "      <td>0.500000</td>\n",
       "      <td>0.520000</td>\n",
       "      <td>0.500000</td>\n",
       "      <td>0.520000</td>\n",
       "      <td>0.000000</td>\n",
       "      <td>1.000000</td>\n",
       "      <td>1.000000</td>\n",
       "      <td>0.000000e+00</td>\n",
       "      <td>1.000000</td>\n",
       "      <td>4.760000</td>\n",
       "      <td>0.000000</td>\n",
       "      <td>-17.150000</td>\n",
       "    </tr>\n",
       "    <tr>\n",
       "      <th>25%</th>\n",
       "      <td>1.350000</td>\n",
       "      <td>1.380000</td>\n",
       "      <td>1.320000</td>\n",
       "      <td>1.350000</td>\n",
       "      <td>1.336219</td>\n",
       "      <td>4393.250000</td>\n",
       "      <td>14.000000</td>\n",
       "      <td>7.159500e+03</td>\n",
       "      <td>4300.000000</td>\n",
       "      <td>78.932500</td>\n",
       "      <td>0.040000</td>\n",
       "      <td>-0.150000</td>\n",
       "    </tr>\n",
       "    <tr>\n",
       "      <th>50%</th>\n",
       "      <td>5.255000</td>\n",
       "      <td>5.380000</td>\n",
       "      <td>4.950000</td>\n",
       "      <td>5.085000</td>\n",
       "      <td>5.119729</td>\n",
       "      <td>33871.000000</td>\n",
       "      <td>72.500000</td>\n",
       "      <td>1.086300e+05</td>\n",
       "      <td>31095.000000</td>\n",
       "      <td>100.000000</td>\n",
       "      <td>0.180000</td>\n",
       "      <td>0.000000</td>\n",
       "    </tr>\n",
       "    <tr>\n",
       "      <th>75%</th>\n",
       "      <td>11.392500</td>\n",
       "      <td>11.940000</td>\n",
       "      <td>11.250000</td>\n",
       "      <td>11.377500</td>\n",
       "      <td>11.451724</td>\n",
       "      <td>153416.750000</td>\n",
       "      <td>185.250000</td>\n",
       "      <td>2.057775e+06</td>\n",
       "      <td>122723.000000</td>\n",
       "      <td>100.000000</td>\n",
       "      <td>0.890000</td>\n",
       "      <td>0.030000</td>\n",
       "    </tr>\n",
       "    <tr>\n",
       "      <th>max</th>\n",
       "      <td>84.950000</td>\n",
       "      <td>84.950000</td>\n",
       "      <td>71.500000</td>\n",
       "      <td>74.550000</td>\n",
       "      <td>74.972394</td>\n",
       "      <td>849341.000000</td>\n",
       "      <td>752.000000</td>\n",
       "      <td>2.383048e+07</td>\n",
       "      <td>631381.000000</td>\n",
       "      <td>100.000000</td>\n",
       "      <td>23.300000</td>\n",
       "      <td>14.000000</td>\n",
       "    </tr>\n",
       "  </tbody>\n",
       "</table>\n",
       "</div>"
      ],
      "text/plain": [
       "              Open         High          Low        Close          WAP  \\\n",
       "count  1660.000000  1660.000000  1660.000000  1660.000000  1660.000000   \n",
       "mean     11.834367    12.174048    11.221578    11.673934    11.688802   \n",
       "std      17.169590    17.704607    16.143363    16.837100    16.920058   \n",
       "min       0.500000     0.520000     0.500000     0.520000     0.000000   \n",
       "25%       1.350000     1.380000     1.320000     1.350000     1.336219   \n",
       "50%       5.255000     5.380000     4.950000     5.085000     5.119729   \n",
       "75%      11.392500    11.940000    11.250000    11.377500    11.451724   \n",
       "max      84.950000    84.950000    71.500000    74.550000    74.972394   \n",
       "\n",
       "       No. of Shares  No. of Trades  Total Turnover  Deliverable Quantity  \\\n",
       "count    1660.000000    1660.000000    1.660000e+03           1660.000000   \n",
       "mean   101330.338554     122.983735    1.664520e+06          75754.484337   \n",
       "std    140560.465729     138.844766    2.938726e+06          96646.348605   \n",
       "min         1.000000       1.000000    0.000000e+00              1.000000   \n",
       "25%      4393.250000      14.000000    7.159500e+03           4300.000000   \n",
       "50%     33871.000000      72.500000    1.086300e+05          31095.000000   \n",
       "75%    153416.750000     185.250000    2.057775e+06         122723.000000   \n",
       "max    849341.000000     752.000000    2.383048e+07         631381.000000   \n",
       "\n",
       "       % Deli. Qty to Traded Qty   Spread H-L   Spread C-O  \n",
       "count                1660.000000  1660.000000  1660.000000  \n",
       "mean                   88.678651     0.952470    -0.160434  \n",
       "std                    16.648158     1.960071     1.342787  \n",
       "min                     4.760000     0.000000   -17.150000  \n",
       "25%                    78.932500     0.040000    -0.150000  \n",
       "50%                   100.000000     0.180000     0.000000  \n",
       "75%                   100.000000     0.890000     0.030000  \n",
       "max                   100.000000    23.300000    14.000000  "
      ]
     },
     "execution_count": 61,
     "metadata": {},
     "output_type": "execute_result"
    }
   ],
   "source": [
    "data.describe()"
   ]
  },
  {
   "cell_type": "code",
   "execution_count": 62,
   "id": "aae2e8b8-5cdd-4456-b1e5-7f3177c12f91",
   "metadata": {},
   "outputs": [],
   "source": [
    "data.drop(columns = [\"Date\"], inplace = True)"
   ]
  },
  {
   "cell_type": "markdown",
   "id": "e8cd9b8d-1ece-41f7-a6da-90bb4dfef743",
   "metadata": {},
   "source": [
    "### Correlation \n",
    "\n",
    "Finding correlations between all features using seaborn graph representation."
   ]
  },
  {
   "cell_type": "code",
   "execution_count": 63,
   "id": "e4013a9b-c47d-4b60-9382-c2969c039c63",
   "metadata": {},
   "outputs": [],
   "source": [
    "correlation = data.corr()"
   ]
  },
  {
   "cell_type": "code",
   "execution_count": 64,
   "id": "57aac9ad-d9c8-4d56-a335-3a768b903ba4",
   "metadata": {},
   "outputs": [
    {
     "data": {
      "image/png": "[encoded data removed]",
      "text/plain": [
       "<Figure size 1000x1000 with 2 Axes>"
      ]
     },
     "metadata": {},
     "output_type": "display_data"
    }
   ],
   "source": [
    "plt.figure(figsize = (10,10))\n",
    "A = sns.heatmap(correlation, cbar = True, square = True, fmt = '.1f', annot = True, annot_kws = {\"size\":10}, cmap = \"Blues\")"
   ]
  },
  {
   "cell_type": "code",
   "execution_count": 65,
   "id": "e091eef7-7730-4e0a-a6d2-357d31afea60",
   "metadata": {},
   "outputs": [
    {
     "data": {
      "text/plain": [
       "Open                         0.803577\n",
       "High                         0.816759\n",
       "Low                          0.774332\n",
       "Close                        0.791669\n",
       "WAP                          0.792668\n",
       "No. of Shares                0.162706\n",
       "No. of Trades                0.505152\n",
       "Total Turnover               0.638468\n",
       "Deliverable Quantity         0.165507\n",
       "% Deli. Qty to Traded Qty   -0.362187\n",
       "Spread H-L                   1.000000\n",
       "Spread C-O                  -0.348283\n",
       "Name: Spread H-L, dtype: float64"
      ]
     },
     "execution_count": 65,
     "metadata": {},
     "output_type": "execute_result"
    }
   ],
   "source": [
    "correlation['Spread H-L']"
   ]
  },
  {
   "cell_type": "code",
   "execution_count": 66,
   "id": "31b7005d-5aa0-4df5-99d6-67391c4f036c",
   "metadata": {},
   "outputs": [
    {
     "data": {
      "text/plain": [
       "Open                        -0.284317\n",
       "High                        -0.249672\n",
       "Low                         -0.231531\n",
       "Close                       -0.210180\n",
       "WAP                         -0.222151\n",
       "No. of Shares               -0.051611\n",
       "No. of Trades               -0.136711\n",
       "Total Turnover              -0.193295\n",
       "Deliverable Quantity        -0.046712\n",
       "% Deli. Qty to Traded Qty    0.114005\n",
       "Spread H-L                  -0.348283\n",
       "Spread C-O                   1.000000\n",
       "Name: Spread C-O, dtype: float64"
      ]
     },
     "execution_count": 66,
     "metadata": {},
     "output_type": "execute_result"
    }
   ],
   "source": [
    "correlation['Spread C-O']"
   ]
  },
  {
   "cell_type": "code",
   "execution_count": 67,
   "id": "f18dd275-2b6f-467f-9083-f30f60e50e23",
   "metadata": {},
   "outputs": [
    {
     "name": "stderr",
     "output_type": "stream",
     "text": [
      "C:\\Users\\Devender\\AppData\\Local\\Temp\\ipykernel_7080\\1917134292.py:1: UserWarning: \n",
      "\n",
      "`distplot` is a deprecated function and will be removed in seaborn v0.14.0.\n",
      "\n",
      "Please adapt your code to use either `displot` (a figure-level function with\n",
      "similar flexibility) or `histplot` (an axes-level function for histograms).\n",
      "\n",
      "For a guide to updating your code to use the new functions, please see\n",
      "https://gist.github.com/mwaskom/de44147ed2974457ad6372750bbe5751\n",
      "\n",
      "  sns.distplot(data['Spread H-L'], color = 'Red')\n",
      "H:\\Users\\Devender\\anaconda3\\Lib\\site-packages\\seaborn\\_oldcore.py:1119: FutureWarning: use_inf_as_na option is deprecated and will be removed in a future version. Convert inf values to NaN before operating instead.\n",
      "  with pd.option_context('mode.use_inf_as_na', True):\n"
     ]
    },
    {
     "data": {
      "text/plain": [
       "<Axes: xlabel='Spread H-L', ylabel='Density'>"
      ]
     },
     "execution_count": 67,
     "metadata": {},
     "output_type": "execute_result"
    },
    {
     "data": {
      "image/png": "[encoded data removed]",
      "text/plain": [
       "<Figure size 640x480 with 1 Axes>"
      ]
     },
     "metadata": {},
     "output_type": "display_data"
    }
   ],
   "source": [
    "sns.distplot(data['Spread H-L'], color = 'Red')"
   ]
  },
  {
   "cell_type": "markdown",
   "id": "323dfc66-87b9-4440-b1d9-ef722b81f437",
   "metadata": {},
   "source": [
    "### Data Training \n",
    "\n",
    "Label the features 'High' and 'Open' as X and Y as target value 'Spread H-L'. Train the data using train test split with train size is 0.8 i.e. 80% of data is used for training of model and rest is used for test purpose."
   ]
  },
  {
   "cell_type": "code",
   "execution_count": 74,
   "id": "1589a56c-967e-44e4-82db-70c8e63a1db8",
   "metadata": {},
   "outputs": [],
   "source": [
    "X = data[['High', 'Open']]\n",
    "y = data['Spread H-L']"
   ]
  },
  {
   "cell_type": "code",
   "execution_count": 75,
   "id": "4944a57f-0e1e-4e20-b14f-ccf0675b7132",
   "metadata": {},
   "outputs": [],
   "source": [
    "X_train, X_test, y_train, y_test = train_test_split(X, y, train_size = 0.8, random_state = 42)"
   ]
  },
  {
   "cell_type": "markdown",
   "id": "5f472e1b-71a8-4b05-9890-fa62a27be988",
   "metadata": {},
   "source": [
    "### Load the Model\n",
    "\n",
    "Randon forest Regression is used to predict the value."
   ]
  },
  {
   "cell_type": "code",
   "execution_count": 77,
   "id": "8ea00aec-10d3-4cc6-bebe-280ca356268e",
   "metadata": {},
   "outputs": [],
   "source": [
    "model = RandomForestRegressor(n_estimators = 100)"
   ]
  },
  {
   "cell_type": "code",
   "execution_count": 78,
   "id": "acee569b-bb1c-4b11-97e3-93da935efe49",
   "metadata": {},
   "outputs": [
    {
     "data": {
      "text/html": [
       "<style>#sk-container-id-1 {color: black;background-color: white;}#sk-container-id-1 pre{padding: 0;}#sk-container-id-1 div.sk-toggleable {background-color: white;}#sk-container-id-1 label.sk-toggleable__label {cursor: pointer;display: block;width: 100%;margin-bottom: 0;padding: 0.3em;box-sizing: border-box;text-align: center;}#sk-container-id-1 label.sk-toggleable__label-arrow:before {content: \"▸\";float: left;margin-right: 0.25em;color: #696969;}#sk-container-id-1 label.sk-toggleable__label-arrow:hover:before {color: black;}#sk-container-id-1 div.sk-estimator:hover label.sk-toggleable__label-arrow:before {color: black;}#sk-container-id-1 div.sk-toggleable__content {max-height: 0;max-width: 0;overflow: hidden;text-align: left;background-color: #f0f8ff;}#sk-container-id-1 div.sk-toggleable__content pre {margin: 0.2em;color: black;border-radius: 0.25em;background-color: #f0f8ff;}#sk-container-id-1 input.sk-toggleable__control:checked~div.sk-toggleable__content {max-height: 200px;max-width: 100%;overflow: auto;}#sk-container-id-1 input.sk-toggleable__control:checked~label.sk-toggleable__label-arrow:before {content: \"▾\";}#sk-container-id-1 div.sk-estimator input.sk-toggleable__control:checked~label.sk-toggleable__label {background-color: #d4ebff;}#sk-container-id-1 div.sk-label input.sk-toggleable__control:checked~label.sk-toggleable__label {background-color: #d4ebff;}#sk-container-id-1 input.sk-hidden--visually {border: 0;clip: rect(1px 1px 1px 1px);clip: rect(1px, 1px, 1px, 1px);height: 1px;margin: -1px;overflow: hidden;padding: 0;position: absolute;width: 1px;}#sk-container-id-1 div.sk-estimator {font-family: monospace;background-color: #f0f8ff;border: 1px dotted black;border-radius: 0.25em;box-sizing: border-box;margin-bottom: 0.5em;}#sk-container-id-1 div.sk-estimator:hover {background-color: #d4ebff;}#sk-container-id-1 div.sk-parallel-item::after {content: \"\";width: 100%;border-bottom: 1px solid gray;flex-grow: 1;}#sk-container-id-1 div.sk-label:hover label.sk-toggleable__label {background-color: #d4ebff;}#sk-container-id-1 div.sk-serial::before {content: \"\";position: absolute;border-left: 1px solid gray;box-sizing: border-box;top: 0;bottom: 0;left: 50%;z-index: 0;}#sk-container-id-1 div.sk-serial {display: flex;flex-direction: column;align-items: center;background-color: white;padding-right: 0.2em;padding-left: 0.2em;position: relative;}#sk-container-id-1 div.sk-item {position: relative;z-index: 1;}#sk-container-id-1 div.sk-parallel {display: flex;align-items: stretch;justify-content: center;background-color: white;position: relative;}#sk-container-id-1 div.sk-item::before, #sk-container-id-1 div.sk-parallel-item::before {content: \"\";position: absolute;border-left: 1px solid gray;box-sizing: border-box;top: 0;bottom: 0;left: 50%;z-index: -1;}#sk-container-id-1 div.sk-parallel-item {display: flex;flex-direction: column;z-index: 1;position: relative;background-color: white;}#sk-container-id-1 div.sk-parallel-item:first-child::after {align-self: flex-end;width: 50%;}#sk-container-id-1 div.sk-parallel-item:last-child::after {align-self: flex-start;width: 50%;}#sk-container-id-1 div.sk-parallel-item:only-child::after {width: 0;}#sk-container-id-1 div.sk-dashed-wrapped {border: 1px dashed gray;margin: 0 0.4em 0.5em 0.4em;box-sizing: border-box;padding-bottom: 0.4em;background-color: white;}#sk-container-id-1 div.sk-label label {font-family: monospace;font-weight: bold;display: inline-block;line-height: 1.2em;}#sk-container-id-1 div.sk-label-container {text-align: center;}#sk-container-id-1 div.sk-container {/* jupyter's `normalize.less` sets `[hidden] { display: none; }` but bootstrap.min.css set `[hidden] { display: none !important; }` so we also need the `!important` here to be able to override the default hidden behavior on the sphinx rendered scikit-learn.org. See: https://github.com/scikit-learn/scikit-learn/issues/21755 */display: inline-block !important;position: relative;}#sk-container-id-1 div.sk-text-repr-fallback {display: none;}</style><div id=\"sk-container-id-1\" class=\"sk-top-container\"><div class=\"sk-text-repr-fallback\"><pre>RandomForestRegressor()</pre><b>In a Jupyter environment, please rerun this cell to show the HTML representation or trust the notebook. <br />On GitHub, the HTML representation is unable to render, please try loading this page with nbviewer.org.</b></div><div class=\"sk-container\" hidden><div class=\"sk-item\"><div class=\"sk-estimator sk-toggleable\"><input class=\"sk-toggleable__control sk-hidden--visually\" id=\"sk-estimator-id-1\" type=\"checkbox\" checked><label for=\"sk-estimator-id-1\" class=\"sk-toggleable__label sk-toggleable__label-arrow\">RandomForestRegressor</label><div class=\"sk-toggleable__content\"><pre>RandomForestRegressor()</pre></div></div></div></div></div>"
      ],
      "text/plain": [
       "RandomForestRegressor()"
      ]
     },
     "execution_count": 78,
     "metadata": {},
     "output_type": "execute_result"
    }
   ],
   "source": [
    "model.fit(X_train, y_train)"
   ]
  },
  {
   "cell_type": "markdown",
   "id": "ee794563-7bd1-4b60-b1ba-f3eae37fa571",
   "metadata": {},
   "source": [
    "### Test the Model on test data"
   ]
  },
  {
   "cell_type": "code",
   "execution_count": 80,
   "id": "56b8c45d-d216-4137-b526-20d3db31f0c2",
   "metadata": {},
   "outputs": [
    {
     "data": {
      "text/plain": [
       "array([4.56000000e+00, 8.45000000e-02, 6.08300000e+00, 4.07472460e-01,\n",
       "       6.61630000e-01, 5.62700000e-01, 4.82850000e+00, 6.35300000e-01,\n",
       "       5.26969444e-02, 1.33200000e-01, 9.85033333e-02, 8.19285714e-03,\n",
       "       1.65100000e+00, 6.35900000e-01, 1.13200000e+00, 3.30300000e+00,\n",
       "       8.68116667e-02, 1.87390000e+01, 4.14983333e-02, 4.71400000e+00,\n",
       "       1.39350000e+00, 6.45000000e-02, 1.24858095e-01, 1.44450000e+00,\n",
       "       1.52640000e+00, 5.51750000e+00, 8.25241651e-02, 1.28200000e-01,\n",
       "       5.44300000e-01, 3.28411111e-02, 3.84211667e-01, 1.03780000e+00,\n",
       "       3.07525000e-01, 4.77250433e-02, 6.52841667e-02, 5.06187500e+00,\n",
       "       1.90650000e+00, 9.90433333e-02, 9.66666667e-04, 1.65840000e+00,\n",
       "       1.48800000e-01, 9.85400000e-02, 1.36283333e-01, 3.68450000e+00,\n",
       "       2.23050000e+00, 1.44200000e+00, 5.37866667e-01, 1.93247009e-02,\n",
       "       3.37277778e-03, 1.04728571e-02, 8.42000000e-03, 1.02878810e-01,\n",
       "       1.20000000e-03, 4.77450000e-01, 3.37277778e-03, 1.15000000e-02,\n",
       "       5.32734921e-02, 7.88500000e-01, 3.71900000e+00, 2.54891908e-02,\n",
       "       1.58685432e-02, 1.55795000e-01, 3.51550000e+00, 3.69800000e+00,\n",
       "       1.73240000e+00, 8.27783911e-02, 1.33250000e-02, 7.34200000e-02,\n",
       "       4.91700000e-01, 5.02566667e-01, 1.50500000e-02, 8.81550000e-02,\n",
       "       7.48700000e-01, 5.17375000e-01, 1.21755556e-01, 1.56016667e-01,\n",
       "       4.80866667e-02, 1.31380000e+00, 5.52150000e+00, 5.15459603e-01,\n",
       "       1.14855000e-01, 1.11315000e-01, 5.03551270e-01, 4.71250000e-02,\n",
       "       3.60101190e-02, 3.24533333e-01, 4.39200000e-01, 6.09700000e-01,\n",
       "       1.39928968e-02, 7.38083333e-02, 1.49035714e-02, 4.89664286e-02,\n",
       "       1.66007937e-02, 7.14800000e-01, 2.90000000e-02, 1.71440000e+00,\n",
       "       4.20500000e-01, 4.38895833e-01, 7.39500000e-01, 4.99100000e-01,\n",
       "       1.34450000e+00, 1.58685432e-02, 8.42000000e-03, 4.83000000e-01,\n",
       "       1.79600000e+00, 1.20000000e-03, 7.35000000e+00, 6.15585714e-02,\n",
       "       5.74350000e+00, 3.00000000e-04, 1.47553333e-01, 6.30773810e-03,\n",
       "       8.63500000e-01, 5.26300000e-01, 6.31150000e+00, 9.08261905e-02,\n",
       "       6.52841667e-02, 4.77250433e-02, 5.30800000e-01, 9.33404762e-03,\n",
       "       3.99500000e+00, 5.73700000e+00, 1.77000000e+00, 3.60101190e-02,\n",
       "       4.05100000e-01, 1.03689167e-01, 1.00833333e-03, 1.04775000e-01,\n",
       "       8.10100000e-01, 3.61729876e-02, 1.11315000e-01, 5.33300000e-01,\n",
       "       0.00000000e+00, 5.10100000e-01, 2.11000000e+00, 4.77430000e-01,\n",
       "       7.55000000e-01, 1.91714286e-02, 4.34766667e-02, 3.22150000e-01,\n",
       "       4.85215000e-01, 7.69000000e-01, 6.08650000e-01, 1.21150000e+00,\n",
       "       2.95100000e+00, 3.86368846e-01, 4.16019048e-02, 4.21600000e-02,\n",
       "       1.06833333e-01, 1.19460000e+00, 5.82833333e-03, 2.03468254e-02,\n",
       "       2.65437500e+00, 5.53702381e-02, 6.41250000e-02, 7.48500000e-02,\n",
       "       4.12019697e-02, 5.40000000e-01, 6.52841667e-02, 1.29152381e-01,\n",
       "       5.26969444e-02, 1.72400000e+00, 3.00000000e-04, 7.84750000e-01,\n",
       "       5.66550000e+00, 5.40600000e+00, 1.21440833e+00, 5.50300000e-01,\n",
       "       2.55950000e+00, 3.00000000e-04, 1.44283333e-01, 6.30773810e-03,\n",
       "       7.39500000e-01, 9.01983333e-02, 9.55733333e-02, 5.79000000e-01,\n",
       "       1.01025000e-01, 6.52841667e-02, 1.35310000e+00, 4.77250433e-02,\n",
       "       5.47579149e-02, 9.96000000e-02, 1.58685432e-02, 2.00000000e-04,\n",
       "       9.71800000e-02, 5.60850000e+00, 4.29444444e-03, 1.92513333e+00,\n",
       "       7.14100000e-01, 1.69400000e-01, 4.97621905e-01, 8.03563853e-02,\n",
       "       1.00833333e-03, 3.93850000e+00, 1.30702381e-01, 1.91714286e-02,\n",
       "       1.53123810e-02, 3.26325000e-01, 4.50978817e-01, 5.37333333e-02,\n",
       "       4.71250000e-02, 5.04763333e-01, 1.70700000e+00, 3.70350000e+00,\n",
       "       5.82100000e+00, 9.34878571e-02, 6.57333333e+00, 1.67333333e-02,\n",
       "       7.82036667e-01, 1.10186667e+00, 1.91714286e-02, 6.07000000e-02,\n",
       "       6.10010000e-01, 5.87200000e-01, 3.79900000e+00, 6.03550000e+00,\n",
       "       1.00833333e-03, 4.82983571e-01, 2.65421429e-02, 3.59500000e+00,\n",
       "       4.77250433e-02, 4.96900000e-01, 9.48000000e-02, 2.13700000e-02,\n",
       "       2.51000000e-02, 5.06588333e-01, 4.77875000e-01, 1.67200000e-01,\n",
       "       1.91714286e-02, 6.98300000e-01, 4.77875000e-01, 9.52200000e-01,\n",
       "       4.16500000e-01, 1.36650000e+00, 1.03796667e-01, 1.00000000e-01,\n",
       "       5.11475758e-02, 6.97000000e-01, 3.52780000e-01, 8.41583333e-02,\n",
       "       2.64644661e-02, 3.70330159e-02, 1.21200000e+00, 3.05820000e-01,\n",
       "       9.49000000e-01, 1.39700000e+00, 3.46716667e-01, 6.33700000e+00,\n",
       "       1.22850000e+00, 5.32734921e-02, 8.76200000e+00, 1.41700000e-01,\n",
       "       1.56016667e-01, 6.75200000e-01, 2.79333333e-02, 1.02878810e-01,\n",
       "       4.52833333e-01, 1.51000000e-01, 2.94000000e-02, 2.54891908e-02,\n",
       "       1.47695000e-01, 1.55900000e-01, 0.00000000e+00, 8.98100000e-01,\n",
       "       3.43666667e-02, 2.54891908e-02, 6.95161355e-02, 1.43900000e-01,\n",
       "       4.38895833e-01, 2.91504762e-02, 5.94900000e-01, 9.70000000e-03,\n",
       "       8.27783911e-02, 5.38350000e+00, 5.37333333e-02, 2.94873413e-02,\n",
       "       3.61600000e-01, 9.55733333e-02, 8.97750000e-01, 4.38895833e-01,\n",
       "       5.63540000e-01, 5.90000000e-03, 4.04200000e-01, 8.69000000e-02,\n",
       "       1.49035714e-02, 4.82566506e-02, 2.54891908e-02, 9.00000000e-04,\n",
       "       8.25241651e-02, 8.32600000e-01, 1.04728571e-02, 1.41700000e-02,\n",
       "       2.40000000e-03, 2.45240476e-02, 1.37600000e-01, 4.25900000e-01,\n",
       "       1.30410000e+00, 1.10790000e+00, 1.19416667e-01, 1.39928968e-02,\n",
       "       5.80230556e-01, 7.51806667e-01, 2.41651804e-02, 1.24284206e-01,\n",
       "       1.94931527e-02, 4.07752381e-01, 2.84150000e+00, 3.10450000e+00,\n",
       "       1.10700000e-01, 2.98550000e+00, 1.49873810e-02, 1.02435833e-01,\n",
       "       5.60089127e-01, 5.69400000e-01, 3.91900000e-01, 1.00541667e-01,\n",
       "       0.00000000e+00, 1.11813333e+00, 5.82000000e-02, 7.23650000e+00,\n",
       "       9.61333333e-02, 2.53337500e+00, 4.70600000e-02, 1.39928968e-02,\n",
       "       6.77966667e-02, 1.10850000e-01, 1.06833333e-01, 5.81300000e+00,\n",
       "       1.62598095e-01, 2.10141270e-02, 8.64983333e-02, 2.70500000e+00])"
      ]
     },
     "execution_count": 80,
     "metadata": {},
     "output_type": "execute_result"
    }
   ],
   "source": [
    "test_data = model.predict(X_test)\n",
    "test_data"
   ]
  },
  {
   "cell_type": "markdown",
   "id": "d373a6dd-b4fc-4333-a4ad-a2c37be5f282",
   "metadata": {},
   "source": [
    "### R squared error "
   ]
  },
  {
   "cell_type": "code",
   "execution_count": 83,
   "id": "532ec551-c87c-432a-97cd-5cf8e52e0000",
   "metadata": {},
   "outputs": [
    {
     "data": {
      "text/plain": [
       "0.6645819381345148"
      ]
     },
     "execution_count": 83,
     "metadata": {},
     "output_type": "execute_result"
    }
   ],
   "source": [
    "#  R squared error\n",
    "error_score = metrics.r2_score(y_test, test_data)\n",
    "error_score"
   ]
  },
  {
   "cell_type": "markdown",
   "id": "5ba2a263-f887-4119-bfe0-8d724fcf780a",
   "metadata": {},
   "source": [
    "### Comparision the actual value to predicted value in plot"
   ]
  },
  {
   "cell_type": "code",
   "execution_count": 85,
   "id": "8f41b59e-da07-4875-ab09-9725f4bd60cc",
   "metadata": {},
   "outputs": [],
   "source": [
    "y_test = list(y_test)"
   ]
  },
  {
   "cell_type": "code",
   "execution_count": 87,
   "id": "7109b29f-0e07-4af8-a9c1-1034fb9cbe90",
   "metadata": {},
   "outputs": [
    {
     "data": {
      "image/png": "[encoded data removed]",
      "text/plain": [
       "<Figure size 640x480 with 1 Axes>"
      ]
     },
     "metadata": {},
     "output_type": "display_data"
    }
   ],
   "source": [
    "plt.plot(y_test, color = 'blue', label = 'Actual value')\n",
    "plt.plot(test_data, color = 'green', label = 'Predicted value')\n",
    "plt.title('Actual value vs Predicted value')\n",
    "plt.xlabel([\"No of values\"])\n",
    "plt.ylabel(['Spread H-O'])\n",
    "plt.legend()\n",
    "plt.show()"
   ]
  },
  {
   "cell_type": "code",
   "execution_count": null,
   "id": "875341fb-e0b1-43c8-ab57-be747dc34e1a",
   "metadata": {},
   "outputs": [],
   "source": []
  }
 ],
 "metadata": {
  "kernelspec": {
   "display_name": "Python 3 (ipykernel)",
   "language": "python",
   "name": "python3"
  },
  "language_info": {
   "codemirror_mode": {
    "name": "ipython",
    "version": 3
   },
   "file_extension": ".py",
   "mimetype": "text/x-python",
   "name": "python",
   "nbconvert_exporter": "python",
   "pygments_lexer": "ipython3",
   "version": "3.11.7"
  }
 },
 "nbformat": 4,
 "nbformat_minor": 5
}
